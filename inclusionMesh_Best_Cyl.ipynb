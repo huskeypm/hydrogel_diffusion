{
 "cells": [
  {
   "cell_type": "code",
   "execution_count": 1,
   "metadata": {},
   "outputs": [],
   "source": [
    "%load_ext autoreload\n",
    "%autoreload 2 "
   ]
  },
  {
   "cell_type": "code",
   "execution_count": 2,
   "metadata": {
    "collapsed": true
   },
   "outputs": [],
   "source": [
    "import numpy as np\n",
    "\n",
    "import operator"
   ]
  },
  {
   "cell_type": "markdown",
   "metadata": {},
   "source": [
    "### Input Params"
   ]
  },
  {
   "cell_type": "code",
   "execution_count": 3,
   "metadata": {
    "collapsed": true
   },
   "outputs": [],
   "source": [
    "numInclusions = 2 #per side\n",
    "widthInclusion = 6 #nm \n",
    "widthBox = 100 #nm\n",
    "condInclusion = 100\n",
    "condBulk = 1\n",
    "voltageL = 100 #mv\n",
    "voltageR = 0 #mv\n",
    "outerResolution = 10\n",
    "inclusionResolution =2\n",
    "#locs, rads = run(numInclusions,widthInclusion,widthBox)"
   ]
  },
  {
   "cell_type": "code",
   "execution_count": null,
   "metadata": {
    "collapsed": true
   },
   "outputs": [],
   "source": []
  },
  {
   "cell_type": "markdown",
   "metadata": {},
   "source": [
    "### Insulator\n"
   ]
  },
  {
   "cell_type": "code",
   "execution_count": 4,
   "metadata": {},
   "outputs": [],
   "source": [
    "import insWorking as vroom\n",
    "widthBoxes =np.linspace(100,120,3)"
   ]
  },
  {
   "cell_type": "code",
   "execution_count": 9,
   "metadata": {
    "collapsed": true
   },
   "outputs": [],
   "source": [
    "def run_it_ins(numInclusions, widthInclusion, widthBox,condInclusion, condBulk, voltageL, voltageR,\n",
    "           xmlName=None  # if provided with xmlName, don't regen mesh\n",
    "           ):\n",
    "    #hack\n",
    "    # Assumes box spans [0,0] to [widthBox,widthBox]\n",
    "    if xmlName ==None: \n",
    "      xmlName = vroom.GenRandomizedMesh(numInclusions, widthInclusion, widthBox,outerResolution=outerResolution,inclusionResolution=inclusionResolution) # going to add a default depthBoxc term\n",
    "                                                                                  # will need to pass this box ->iMesh_working_cyl->meshgenCyl\n",
    "      \n",
    "        \n",
    "    name, mesh, coords, outerBoxMin, outerBoxMax = vroom.getCoords(xmlName)\n",
    "    \n",
    "    # PKH\n",
    "    import meshgen\n",
    "    inclusionMarker = meshgen.inclusionMarker\n",
    "    outerMarker = meshgen.outerMarker\n",
    "    inclusionLineMarker = meshgen.inclusionLineMarker\n",
    "    \n",
    "    output = vroom.getOutput(\n",
    "        xmlName=xmlName,\n",
    "        outerBoxMin=outerBoxMin,\n",
    "        outerBoxMax=outerBoxMax,\n",
    "        lineMarkers = [inclusionLineMarker],\n",
    "        domainMarkers = [inclusionMarker,outerMarker],\n",
    "        condInclusion = condInclusion,\n",
    "        condBulk = condBulk,\n",
    "        voltageL = voltageL,\n",
    "        voltageR = voltageR)\n",
    "    \n",
    "    print output\n",
    "    return output"
   ]
  },
  {
   "cell_type": "code",
   "execution_count": 8,
   "metadata": {
    "scrolled": true
   },
   "outputs": [
    {
     "name": "stdout",
     "output_type": "stream",
     "text": [
      "[4, 5]\n",
      "0\n",
      "0\n",
      "PtsPerSide 4.000000 L/D 4.000000\n",
      "(16, 2)\n",
      "(16,)\n",
      "(16,)\n",
      "Found 10000 Keeping 3 (of 3 requested)\n",
      "[9751 3952 9699]\n",
      "[[ 27.99124085  12.64185511]\n",
      " [ 23.60359557  42.08414794]\n",
      " [ 68.98311755  34.48129893]\n",
      " [ 75.88449606  12.08392034]\n",
      " [ 42.89097411  21.33772348]\n",
      " [ 47.29236054  40.29836103]\n",
      " [ 72.91541907  52.56308566]\n",
      " [ 87.55439258  43.39998712]\n",
      " [ 15.71239876  67.82808268]\n",
      " [ 40.63480294  64.7855714 ]\n",
      " [ 68.82778767  69.34256443]\n",
      " [ 85.91213681  63.76733777]\n",
      " [ 19.57445137  88.79505392]\n",
      " [ 46.98088405  87.96790336]\n",
      " [ 69.85940185  88.45405675]\n",
      " [ 87.5         87.5       ]]\n",
      "16\n",
      "[ 27.99124085  12.64185511]\n",
      "[ 27.99124085  12.64185511]\n",
      "[ 23.60359557  42.08414794]\n",
      "[ 68.98311755  34.48129893]\n",
      "[ 75.88449606  12.08392034]\n",
      "[ 42.89097411  21.33772348]\n",
      "[ 47.29236054  40.29836103]\n",
      "[ 72.91541907  52.56308566]\n",
      "[ 87.55439258  43.39998712]\n",
      "[ 15.71239876  67.82808268]\n",
      "[ 40.63480294  64.7855714 ]\n",
      "[ 68.82778767  69.34256443]\n",
      "[ 85.91213681  63.76733777]\n",
      "[ 19.57445137  88.79505392]\n",
      "[ 46.98088405  87.96790336]\n",
      "[ 69.85940185  88.45405675]\n",
      "[ 87.5  87.5]\n",
      "1\n",
      "PtsPerSide 5.000000 L/D 5.000000\n",
      "(25, 2)\n",
      "(25,)\n",
      "(25,)\n",
      "Found 10000 Keeping 3 (of 3 requested)\n",
      "[9892 5469 6194]\n",
      "[[ 12.02630213  10.65715566]\n",
      " [ 29.50234253  12.18729892]\n",
      " [ 47.37057729  11.86750118]\n",
      " [ 71.72804739  11.16069495]\n",
      " [ 89.14233236  11.58325918]\n",
      " [ 13.83341581  30.8613939 ]\n",
      " [ 33.74766029  43.12104741]\n",
      " [ 45.22903604  30.46757271]\n",
      " [ 66.38732539  27.27651815]\n",
      " [ 86.17766631  29.43325046]\n",
      " [ 16.57569433  48.81231451]\n",
      " [ 31.05295513  60.34357529]\n",
      " [ 51.00371901  59.19533894]\n",
      " [ 63.45114275  44.272421  ]\n",
      " [ 89.32601892  48.81526324]\n",
      " [ 13.0583964   65.65963859]\n",
      " [ 41.45012079  74.35314074]\n",
      " [ 59.20519574  75.11827333]\n",
      " [ 73.47824127  59.49830721]\n",
      " [ 88.69999445  69.57744537]\n",
      " [ 12.63561186  86.11242271]\n",
      " [ 29.87539844  88.93078048]\n",
      " [ 49.79020299  89.32472129]\n",
      " [ 73.1894458   85.65922376]\n",
      " [ 90.          90.        ]]\n",
      "25\n",
      "[ 12.02630213  10.65715566]\n",
      "[ 12.02630213  10.65715566]\n",
      "[ 29.50234253  12.18729892]\n",
      "[ 47.37057729  11.86750118]\n",
      "[ 71.72804739  11.16069495]\n",
      "[ 89.14233236  11.58325918]\n",
      "[ 13.83341581  30.8613939 ]\n",
      "[ 33.74766029  43.12104741]\n",
      "[ 45.22903604  30.46757271]\n",
      "[ 66.38732539  27.27651815]\n",
      "[ 86.17766631  29.43325046]\n",
      "[ 16.57569433  48.81231451]\n",
      "[ 31.05295513  60.34357529]\n",
      "[ 51.00371901  59.19533894]\n",
      "[ 63.45114275  44.272421  ]\n",
      "[ 89.32601892  48.81526324]\n",
      "[ 13.0583964   65.65963859]\n",
      "[ 41.45012079  74.35314074]\n",
      "[ 59.20519574  75.11827333]\n",
      "[ 73.47824127  59.49830721]\n",
      "[ 88.69999445  69.57744537]\n",
      "[ 12.63561186  86.11242271]\n",
      "[ 29.87539844  88.93078048]\n",
      "[ 49.79020299  89.32472129]\n",
      "[ 73.1894458   85.65922376]\n",
      "[ 90.  90.]\n",
      "1\n",
      "0\n",
      "PtsPerSide 4.000000 L/D 4.000000\n",
      "(16, 2)\n",
      "(16,)\n",
      "(16,)\n",
      "Found 10000 Keeping 3 (of 3 requested)\n",
      "[7472 8546 2659]\n",
      "[[ 19.57292213  18.38636256]\n",
      " [ 40.99663301  36.97635339]\n",
      " [ 65.58866142  27.84277187]\n",
      " [ 83.85638898  22.87110168]\n",
      " [ 20.37459724  37.11813288]\n",
      " [ 40.30762274  13.86072312]\n",
      " [ 81.88237524  44.09406876]\n",
      " [ 99.18709652  40.5569877 ]\n",
      " [ 13.90221003  68.47553203]\n",
      " [ 41.3171578   56.8057676 ]\n",
      " [ 59.10120162  51.43208486]\n",
      " [ 79.45008604  61.38067519]\n",
      " [ 24.57367676  92.25007346]\n",
      " [ 58.53539731  71.37205634]\n",
      " [ 78.41957985  79.02068932]\n",
      " [ 96.25        96.25      ]]\n",
      "16\n",
      "[ 19.57292213  18.38636256]\n",
      "[ 19.57292213  18.38636256]\n",
      "[ 40.99663301  36.97635339]\n",
      "[ 65.58866142  27.84277187]\n",
      "[ 83.85638898  22.87110168]\n",
      "[ 20.37459724  37.11813288]\n",
      "[ 40.30762274  13.86072312]\n",
      "[ 81.88237524  44.09406876]\n",
      "[ 99.18709652  40.5569877 ]\n",
      "[ 13.90221003  68.47553203]\n",
      "[ 41.3171578  56.8057676]\n",
      "[ 59.10120162  51.43208486]\n",
      "[ 79.45008604  61.38067519]\n",
      "[ 24.57367676  92.25007346]\n",
      "[ 58.53539731  71.37205634]\n",
      "[ 78.41957985  79.02068932]\n",
      "[ 96.25  96.25]\n",
      "1\n",
      "PtsPerSide 5.000000 L/D 5.000000\n",
      "(25, 2)\n",
      "(25,)\n",
      "(25,)\n",
      "Found 10000 Keeping 3 (of 3 requested)\n",
      "[9655 8496  363]\n",
      "[[ 14.05999605  14.28818045]\n",
      " [ 31.85411705  13.82352592]\n",
      " [ 54.15781857  19.36866263]\n",
      " [ 70.703836    11.41640389]\n",
      " [ 90.98340378  15.47809752]\n",
      " [ 19.35340072  40.44328592]\n",
      " [ 36.35760373  31.71831723]\n",
      " [ 50.88267174  43.87658945]\n",
      " [ 78.6830472   32.41506348]\n",
      " [ 97.02455008  37.43309918]\n",
      " [ 13.07486106  61.31040515]\n",
      " [ 40.21080249  59.03229696]\n",
      " [ 58.71387725  67.44877175]\n",
      " [ 71.51351354  50.76142148]\n",
      " [ 99.13205051  55.13080476]\n",
      " [ 11.46118608  78.28191438]\n",
      " [ 29.82650599  75.68636049]\n",
      " [ 67.43476809  86.25861012]\n",
      " [ 76.37488027  69.31099397]\n",
      " [ 89.31499022  84.48618112]\n",
      " [ 10.75562212  97.833141  ]\n",
      " [ 28.27803378  98.08639171]\n",
      " [ 54.80335541  99.35443595]\n",
      " [ 78.71555824  99.27727261]\n",
      " [ 99.          99.        ]]\n",
      "25\n",
      "[ 14.05999605  14.28818045]\n",
      "[ 14.05999605  14.28818045]\n",
      "[ 31.85411705  13.82352592]\n",
      "[ 54.15781857  19.36866263]\n",
      "[ 70.703836    11.41640389]\n",
      "[ 90.98340378  15.47809752]\n",
      "[ 19.35340072  40.44328592]\n",
      "[ 36.35760373  31.71831723]\n",
      "[ 50.88267174  43.87658945]\n",
      "[ 78.6830472   32.41506348]\n",
      "[ 97.02455008  37.43309918]\n",
      "[ 13.07486106  61.31040515]\n",
      "[ 40.21080249  59.03229696]\n",
      "[ 58.71387725  67.44877175]\n",
      "[ 71.51351354  50.76142148]\n",
      "[ 99.13205051  55.13080476]\n",
      "[ 11.46118608  78.28191438]\n",
      "[ 29.82650599  75.68636049]\n",
      "[ 67.43476809  86.25861012]\n",
      "[ 76.37488027  69.31099397]\n",
      "[ 89.31499022  84.48618112]\n",
      "[ 10.75562212  97.833141  ]\n",
      "[ 28.27803378  98.08639171]\n",
      "[ 54.80335541  99.35443595]\n",
      "[ 78.71555824  99.27727261]\n",
      "[ 99.  99.]\n",
      "('mesh_4_100_ins.xml', 'mesh_5_100_ins.xml', 'mesh_4_110_ins.xml', 'mesh_5_110_ins.xml')\n",
      "(3.141592653589793, 3.141592653589793, 3.141592653589793, 3.141592653589793)\n"
     ]
    }
   ],
   "source": [
    "numIns = list(range(4,6))\n",
    "numInclusions = numIns\n",
    "xmlNames = []\n",
    "volFrac = np.pi \n",
    "print numInclusions\n",
    "doGen = True\n",
    "outerResolution = 10\n",
    "inclusionsResolution =2\n",
    "widthBoxes = np.linspace(100,110,2)\n",
    "\n",
    "multiple = True\n",
    "if multiple:\n",
    "    for w, width in enumerate(widthBoxes):\n",
    "        print w\n",
    "        #outerResolution = width/10.\n",
    "        #inclusionResolution = 0.5\n",
    "        for i, num in enumerate(numInclusions):\n",
    "            print i\n",
    "            if doGen:\n",
    "                xmlName = vroom.GenRandomizedMesh(num, widthInclusion, width,\\\n",
    "                                                   #randomize=False, #uncomment to make fast \n",
    "                                                   inclusionResolution=inclusionResolution,outerResolution=outerResolution,multiple=multiple)\n",
    "            else: \n",
    "\n",
    "                num = np.float(num)\n",
    "                width = np.float(width)\n",
    "                volFrac = 25*num/(width**2)\n",
    "\n",
    "                xmlName = \"mesh_%d_%d_ins.xml\"%(num,width)\n",
    "\n",
    "            xmlNames.append([xmlName, volFrac,num,width]) \n",
    "else:\n",
    "    widthBoxes = np.linspace(100,200,21)\n",
    "    numInclusions =5\n",
    "    num=numInclusions\n",
    "    for w, width in enumerate(widthBoxes):\n",
    "    #outerResolution = width/10.\n",
    "    #inclusionResolution = 0.5\n",
    "    \n",
    "        if doGen:\n",
    "            xmlName = vroom.GenRandomizedMesh(num, widthInclusion, width,\\\n",
    "                                               #randomize=False, #uncomment to make fast \n",
    "                                               inclusionResolution=inclusionResolution,outerResolution=outerResolution,multiple=multiple)\n",
    "        else: \n",
    "             \n",
    "            num = np.float(num)\n",
    "            width = np.float(width)\n",
    "            volFrac = 25*num/(width**2)\n",
    "                \n",
    "            xmlName = \"mesh_%d_ins.xml\"%(width)\n",
    "        \n",
    "        xmlNames.append([xmlName, volFrac,num,width]) \n",
    "\n",
    "#xmlNames.sort(key=operator.itemgetter(1))\n",
    "\n",
    "xmlNames, volFracs, numInclusions_, widthBoxes_ = zip(*xmlNames)\n",
    "\n",
    "print xmlNames\n",
    "print volFracs"
   ]
  },
  {
   "cell_type": "code",
   "execution_count": 13,
   "metadata": {},
   "outputs": [
    {
     "name": "stdout",
     "output_type": "stream",
     "text": [
      "mesh_4_100_ins.xml\n",
      "1.00041907571\n",
      "<diffusionSolver.empty instance at 0x7efecdde3440>\n",
      "mesh_5_100_ins.xml\n",
      "1.00095809988\n",
      "<diffusionSolver.empty instance at 0x7efece191320>\n",
      "mesh_4_110_ins.xml\n",
      "1.00032977512\n",
      "<diffusionSolver.empty instance at 0x7efecdd3bb00>\n",
      "mesh_5_110_ins.xml\n",
      "1.00065022787\n",
      "<diffusionSolver.empty instance at 0x7efecdde5c68>\n"
     ]
    }
   ],
   "source": [
    "outputs = []\n",
    "test =[1]\n",
    "for i, instance in enumerate(xmlNames): #xmlNames):\n",
    "    numInclusion = numInclusions_[i]\n",
    "    xmlName = xmlNames[i]\n",
    "    widthBox =widthBoxes_[i]\n",
    "    print xmlName\n",
    "    output = run_it_ins(numInclusion, widthInclusion, widthBox,condInclusion, condBulk, voltageL, voltageR,\n",
    "                    xmlName  # if provided with xmlName, don't regen mesh\n",
    "                    )\n",
    "    outputs.append(output)\n",
    "    \n"
   ]
  },
  {
   "cell_type": "code",
   "execution_count": 10,
   "metadata": {
    "collapsed": true
   },
   "outputs": [],
   "source": [
    "import matplotlib.pylab as plt"
   ]
  },
  {
   "cell_type": "code",
   "execution_count": 11,
   "metadata": {},
   "outputs": [
    {
     "name": "stdout",
     "output_type": "stream",
     "text": [
      "1.00008153142\n",
      "1.000192462\n",
      "1.00042128079\n",
      "1.00006155351\n",
      "1.00015872652\n",
      "1.00032809597\n",
      "1.00005249556\n",
      "1.0001292298\n",
      "1.00025272611\n"
     ]
    },
    {
     "data": {
      "text/plain": [
       "<matplotlib.text.Text at 0x7f0c4b042b50>"
      ]
     },
     "execution_count": 11,
     "metadata": {},
     "output_type": "execute_result"
    }
   ],
   "source": [
    "sigmaVals = []\n",
    "for i in range(len(outputs)):\n",
    "    print outputs[i].sig\n",
    "    sigmaVals.append(outputs[i].sig)\n",
    "  \n",
    "\n",
    "  \n",
    "count = 0\n",
    "for i, widthBox in enumerate(widthBoxes):\n",
    "    counts = count +6\n",
    "    plt.plot(volFracs[0], sigmaVals[0])\n",
    "    \n",
    "\n",
    "    \n",
    "plt.title(\"Effective Sigma vs Volume Fraction \")\n",
    "plt.xlabel(\"Volume Fraction of Inclusion\")\n",
    "plt.ylabel(\"Effective Sigma\")\n",
    "\n"
   ]
  },
  {
   "cell_type": "code",
   "execution_count": 12,
   "metadata": {},
   "outputs": [
    {
     "name": "stdout",
     "output_type": "stream",
     "text": [
      "1.00008153142\n"
     ]
    }
   ],
   "source": [
    "print outputs[0].sig"
   ]
  },
  {
   "cell_type": "code",
   "execution_count": null,
   "metadata": {
    "collapsed": true
   },
   "outputs": [],
   "source": [
    "print answer.sig\n"
   ]
  },
  {
   "cell_type": "code",
   "execution_count": null,
   "metadata": {
    "collapsed": true
   },
   "outputs": [],
   "source": [
    "inclusions = np.linspace(2,5,4)\n",
    "sigmaEff=[]"
   ]
  },
  {
   "cell_type": "code",
   "execution_count": null,
   "metadata": {
    "collapsed": true
   },
   "outputs": [],
   "source": []
  },
  {
   "cell_type": "code",
   "execution_count": null,
   "metadata": {
    "collapsed": true
   },
   "outputs": [],
   "source": [
    "\n",
    "sigma = []\n",
    "\n",
    " # trivial case where no inclusions present\n",
    "\n",
    "for i, sig in enumerate(sigmaEff):\n",
    "    sigma.append(sigmaEff[i].sig)\n",
    "print sigma\n",
    "plt.plot(inclusions, sigma, 'b', label = \"sigma vs numInsulator\")\n"
   ]
  },
  {
   "cell_type": "code",
   "execution_count": null,
   "metadata": {
    "collapsed": true
   },
   "outputs": [],
   "source": []
  },
  {
   "cell_type": "code",
   "execution_count": null,
   "metadata": {
    "collapsed": true
   },
   "outputs": [],
   "source": []
  }
 ],
 "metadata": {
  "kernelspec": {
   "display_name": "Python 2",
   "language": "python",
   "name": "python2"
  },
  "language_info": {
   "codemirror_mode": {
    "name": "ipython",
    "version": 2
   },
   "file_extension": ".py",
   "mimetype": "text/x-python",
   "name": "python",
   "nbconvert_exporter": "python",
   "pygments_lexer": "ipython2",
   "version": "2.7.9"
  }
 },
 "nbformat": 4,
 "nbformat_minor": 1
}
