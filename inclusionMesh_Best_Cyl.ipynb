{
 "cells": [
  {
   "cell_type": "code",
   "execution_count": 1,
   "metadata": {},
   "outputs": [],
   "source": [
    "%load_ext autoreload\n",
    "%autoreload 2 "
   ]
  },
  {
   "cell_type": "code",
   "execution_count": 2,
   "metadata": {
    "collapsed": true
   },
   "outputs": [],
   "source": [
    "import numpy as np\n",
    "\n",
    "import operator"
   ]
  },
  {
   "cell_type": "markdown",
   "metadata": {},
   "source": [
    "### Input Params"
   ]
  },
  {
   "cell_type": "code",
   "execution_count": 3,
   "metadata": {
    "collapsed": true
   },
   "outputs": [],
   "source": [
    "numInclusions = 2 #per side\n",
    "widthInclusion = 6 #nm \n",
    "widthBox = 100 #nm\n",
    "condInclusion = 100\n",
    "condBulk = 1\n",
    "voltageL = 100 #mv\n",
    "voltageR = 0 #mv\n",
    "outerResolution = 10\n",
    "inclusionResolution =2\n",
    "#locs, rads = run(numInclusions,widthInclusion,widthBox)"
   ]
  },
  {
   "cell_type": "code",
   "execution_count": null,
   "metadata": {
    "collapsed": true
   },
   "outputs": [],
   "source": []
  },
  {
   "cell_type": "markdown",
   "metadata": {},
   "source": [
    "### Insulator\n"
   ]
  },
  {
   "cell_type": "code",
   "execution_count": 4,
   "metadata": {
    "collapsed": true
   },
   "outputs": [],
   "source": [
    "import insWorking as vroom\n",
    "widthBoxes =np.linspace(100,120,3)"
   ]
  },
  {
   "cell_type": "code",
   "execution_count": 5,
   "metadata": {
    "collapsed": true
   },
   "outputs": [],
   "source": [
    "def run_it_ins(numInclusions, widthInclusion, widthBox,condInclusion, condBulk, voltageL, voltageR,\n",
    "           xmlName=None  # if provided with xmlName, don't regen mesh\n",
    "           ):\n",
    "    #hack\n",
    "    # Assumes box spans [0,0] to [widthBox,widthBox]\n",
    "    if xmlName ==None: \n",
    "      xmlName = vroom.GenRandomizedMesh(numInclusions, widthInclusion, widthBox,outerResolution=outerResolution,inclusionResolution=inclusionResolution) # going to add a default depthBoxc term\n",
    "                                                                                  # will need to pass this box ->iMesh_working_cyl->meshgenCyl\n",
    "      \n",
    "        \n",
    "    name, mesh, coords, outerBoxMin, outerBoxMax = vroom.getCoords(xmlName)\n",
    "    \n",
    "    # PKH\n",
    "    import meshgen\n",
    "    inclusionMarker = meshgen.inclusionMarker\n",
    "    outerMarker = meshgen.outerMarker\n",
    "    inclusionLineMarker = meshgen.inclusionLineMarker\n",
    "    \n",
    "    output = vroom.getOutput(\n",
    "        xmlName=xmlName,\n",
    "        outerBoxMin=outerBoxMin,\n",
    "        outerBoxMax=outerBoxMax,\n",
    "        lineMarkers = [inclusionLineMarker],\n",
    "        domainMarkers = [inclusionMarker,outerMarker],\n",
    "        condInclusion = condInclusion,\n",
    "        condBulk = condBulk,\n",
    "        voltageL = voltageL,\n",
    "        voltageR = voltageR)\n",
    "    \n",
    "    print output\n",
    "    return output"
   ]
  },
  {
   "cell_type": "code",
   "execution_count": 21,
   "metadata": {
    "scrolled": true
   },
   "outputs": [
    {
     "name": "stdout",
     "output_type": "stream",
     "text": [
      "[4, 5]\n",
      "0\n",
      "0\n",
      "PtsPerSide 4.000000 L/D 4.000000\n",
      "(16, 2)\n",
      "(16,)\n",
      "(16,)\n",
      "Found 10000 Keeping 3 (of 3 requested)\n",
      "[1964  591  713]\n",
      "[[ 11.85800015  21.72307076]\n",
      " [ 40.77415647  12.88330838]\n",
      " [ 67.68151646  11.33764637]\n",
      " [ 87.03801707  19.11992957]\n",
      " [ 19.49709145  46.64532742]\n",
      " [ 44.21512742  31.26017469]\n",
      " [ 60.0022541   46.26683128]\n",
      " [ 67.37174603  28.8551212 ]\n",
      " [ 12.55693205  65.28496185]\n",
      " [ 38.58536069  52.26950141]\n",
      " [ 56.55169304  65.81952977]\n",
      " [ 85.93741823  52.65956594]\n",
      " [ 29.28147538  71.63419973]\n",
      " [ 48.5881458   80.88946464]\n",
      " [ 76.99230529  68.46903628]\n",
      " [ 87.5         87.5       ]]\n",
      "16\n",
      "[ 11.85800015  21.72307076]\n",
      "[ 11.85800015  21.72307076]\n",
      "[ 40.77415647  12.88330838]\n",
      "[ 67.68151646  11.33764637]\n",
      "[ 87.03801707  19.11992957]\n",
      "[ 19.49709145  46.64532742]\n",
      "[ 44.21512742  31.26017469]\n",
      "[ 60.0022541   46.26683128]\n",
      "[ 67.37174603  28.8551212 ]\n",
      "[ 12.55693205  65.28496185]\n",
      "[ 38.58536069  52.26950141]\n",
      "[ 56.55169304  65.81952977]\n",
      "[ 85.93741823  52.65956594]\n",
      "[ 29.28147538  71.63419973]\n",
      "[ 48.5881458   80.88946464]\n",
      "[ 76.99230529  68.46903628]\n",
      "[ 87.5  87.5]\n",
      "1\n",
      "PtsPerSide 5.000000 L/D 5.000000\n",
      "(25, 2)\n",
      "(25,)\n",
      "(25,)\n",
      "Found 10000 Keeping 3 (of 3 requested)\n",
      "[2417 8612  493]\n",
      "[[ 15.42880914  11.30137639]\n",
      " [ 34.8541662   14.9772786 ]\n",
      " [ 53.6683728   18.7684761 ]\n",
      " [ 70.90858622  16.3662775 ]\n",
      " [ 89.40370771  12.612986  ]\n",
      " [ 10.63802287  28.17574584]\n",
      " [ 26.00557252  35.52697181]\n",
      " [ 43.32461431  34.59229341]\n",
      " [ 63.55276563  37.60742498]\n",
      " [ 85.07499062  31.42366019]\n",
      " [ 11.21462612  46.34960418]\n",
      " [ 30.88064619  56.15090348]\n",
      " [ 48.37504003  51.59338401]\n",
      " [ 71.40603138  53.6924201 ]\n",
      " [ 88.7534381   48.50906352]\n",
      " [ 11.38200798  64.19743195]\n",
      " [ 27.28028016  75.27965353]\n",
      " [ 46.67073847  72.98299437]\n",
      " [ 63.24626815  69.26701923]\n",
      " [ 87.72069049  66.12057715]\n",
      " [ 11.78780072  84.92453179]\n",
      " [ 37.40407033  89.37232485]\n",
      " [ 55.52465149  88.33483927]\n",
      " [ 73.84722874  84.12480624]\n",
      " [ 90.          90.        ]]\n",
      "25\n",
      "[ 15.42880914  11.30137639]\n",
      "[ 15.42880914  11.30137639]\n",
      "[ 34.8541662  14.9772786]\n",
      "[ 53.6683728  18.7684761]\n",
      "[ 70.90858622  16.3662775 ]\n",
      "[ 89.40370771  12.612986  ]\n",
      "[ 10.63802287  28.17574584]\n",
      "[ 26.00557252  35.52697181]\n",
      "[ 43.32461431  34.59229341]\n",
      "[ 63.55276563  37.60742498]\n",
      "[ 85.07499062  31.42366019]\n",
      "[ 11.21462612  46.34960418]\n",
      "[ 30.88064619  56.15090348]\n",
      "[ 48.37504003  51.59338401]\n",
      "[ 71.40603138  53.6924201 ]\n",
      "[ 88.7534381   48.50906352]\n",
      "[ 11.38200798  64.19743195]\n",
      "[ 27.28028016  75.27965353]\n",
      "[ 46.67073847  72.98299437]\n",
      "[ 63.24626815  69.26701923]\n",
      "[ 87.72069049  66.12057715]\n",
      "[ 11.78780072  84.92453179]\n",
      "[ 37.40407033  89.37232485]\n",
      "[ 55.52465149  88.33483927]\n",
      "[ 73.84722874  84.12480624]\n",
      "[ 90.  90.]\n",
      "1\n",
      "0\n",
      "PtsPerSide 4.000000 L/D 4.000000\n",
      "(16, 2)\n",
      "(16,)\n",
      "(16,)\n",
      "Found 10000 Keeping 3 (of 3 requested)\n",
      "[7174 3559 6210]\n",
      "[[ 12.53398741  11.39467602]\n",
      " [ 50.75145988  44.22795809]\n",
      " [ 75.04269445  12.6125384 ]\n",
      " [ 96.73994315  13.28859001]\n",
      " [ 23.81850982  28.11828463]\n",
      " [ 30.21793757  64.21579496]\n",
      " [ 83.24010986  27.51597893]\n",
      " [ 96.27005596  70.01336864]\n",
      " [ 13.27651268  70.47774678]\n",
      " [ 78.326501    58.77226635]\n",
      " [ 47.27074737  62.17306898]\n",
      " [ 78.05238031  83.8906891 ]\n",
      " [ 11.36043746  93.68853572]\n",
      " [ 36.68108912  83.31942202]\n",
      " [ 51.83815231  92.25751753]\n",
      " [ 96.25        96.25      ]]\n",
      "16\n",
      "[ 12.53398741  11.39467602]\n",
      "[ 12.53398741  11.39467602]\n",
      "[ 50.75145988  44.22795809]\n",
      "[ 75.04269445  12.6125384 ]\n",
      "[ 96.73994315  13.28859001]\n",
      "[ 23.81850982  28.11828463]\n",
      "[ 30.21793757  64.21579496]\n",
      "[ 83.24010986  27.51597893]\n",
      "[ 96.27005596  70.01336864]\n",
      "[ 13.27651268  70.47774678]\n",
      "[ 78.326501    58.77226635]\n",
      "[ 47.27074737  62.17306898]\n",
      "[ 78.05238031  83.8906891 ]\n",
      "[ 11.36043746  93.68853572]\n",
      "[ 36.68108912  83.31942202]\n",
      "[ 51.83815231  92.25751753]\n",
      "[ 96.25  96.25]\n",
      "1\n",
      "PtsPerSide 5.000000 L/D 5.000000\n",
      "(25, 2)\n",
      "(25,)\n",
      "(25,)\n",
      "Found 10000 Keeping 3 (of 3 requested)\n",
      "[9220 1160  866]\n",
      "[[ 13.59475315  12.00659135]\n",
      " [ 56.58611311  21.88988928]\n",
      " [ 50.01872595  37.73031425]\n",
      " [ 79.1688651   10.89891543]\n",
      " [ 96.51588821  12.20404837]\n",
      " [ 13.89613001  36.59858656]\n",
      " [ 33.79081561  24.64694809]\n",
      " [ 69.69336367  39.80956982]\n",
      " [ 83.19301451  27.60146647]\n",
      " [ 97.54393099  40.15164468]\n",
      " [ 12.62213246  54.76330892]\n",
      " [ 29.69525342  63.3181791 ]\n",
      " [ 34.24831641  44.70222535]\n",
      " [ 75.85090858  55.6905719 ]\n",
      " [ 96.78153672  57.54857269]\n",
      " [ 19.71374751  79.31794873]\n",
      " [ 40.94008565  81.81263273]\n",
      " [ 56.80669045  53.72617493]\n",
      " [ 63.2086615   69.68023984]\n",
      " [ 99.28451516  78.84999588]\n",
      " [ 15.26854837  98.25900224]\n",
      " [ 36.67313016  99.37467634]\n",
      " [ 60.45508119  88.36986514]\n",
      " [ 84.2741567   90.21621334]\n",
      " [ 99.          99.        ]]\n",
      "25\n",
      "[ 13.59475315  12.00659135]\n",
      "[ 13.59475315  12.00659135]\n",
      "[ 56.58611311  21.88988928]\n",
      "[ 50.01872595  37.73031425]\n",
      "[ 79.1688651   10.89891543]\n",
      "[ 96.51588821  12.20404837]\n",
      "[ 13.89613001  36.59858656]\n",
      "[ 33.79081561  24.64694809]\n",
      "[ 69.69336367  39.80956982]\n",
      "[ 83.19301451  27.60146647]\n",
      "[ 97.54393099  40.15164468]\n",
      "[ 12.62213246  54.76330892]\n",
      "[ 29.69525342  63.3181791 ]\n",
      "[ 34.24831641  44.70222535]\n",
      "[ 75.85090858  55.6905719 ]\n",
      "[ 96.78153672  57.54857269]\n",
      "[ 19.71374751  79.31794873]\n",
      "[ 40.94008565  81.81263273]\n",
      "[ 56.80669045  53.72617493]\n",
      "[ 63.2086615   69.68023984]\n",
      "[ 99.28451516  78.84999588]\n",
      "[ 15.26854837  98.25900224]\n",
      "[ 36.67313016  99.37467634]\n",
      "[ 60.45508119  88.36986514]\n",
      "[ 84.2741567   90.21621334]\n",
      "[ 99.  99.]\n",
      "('mesh_4_100_ins.xml', 'mesh_5_100_ins.xml', 'mesh_4_110_ins.xml', 'mesh_5_110_ins.xml')\n",
      "(3.141592653589793, 3.141592653589793, 3.141592653589793, 3.141592653589793)\n"
     ]
    }
   ],
   "source": [
    "numIns = list(range(4,6))\n",
    "numInclusions = numIns\n",
    "xmlNames = []\n",
    "volFrac = np.pi \n",
    "print numInclusions\n",
    "doGen = True\n",
    "outerResolution = 10\n",
    "inclusionsResolution =2\n",
    "widthBoxes = np.linspace(100,110,2)\n",
    "\n",
    "multiple = True\n",
    "if multiple:\n",
    "    for w, width in enumerate(widthBoxes):\n",
    "        print w\n",
    "        #outerResolution = width/10.\n",
    "        #inclusionResolution = 0.5\n",
    "        for i, num in enumerate(numInclusions):\n",
    "            print i\n",
    "            if doGen:\n",
    "                xmlName = vroom.GenRandomizedMesh(num, widthInclusion, width,\\\n",
    "                                                   #randomize=False, #uncomment to make fast \n",
    "                                                   inclusionResolution=inclusionResolution,outerResolution=outerResolution,multiple=multiple)\n",
    "            else: \n",
    "\n",
    "                num = np.float(num)\n",
    "                width = np.float(width)\n",
    "                volFrac = 25*num/(width**2)\n",
    "\n",
    "                xmlName = \"mesh_%d_%d_ins.xml\"%(num,width)\n",
    "\n",
    "            xmlNames.append([xmlName, volFrac,num,width]) \n",
    "else:\n",
    "    widthBoxes = np.linspace(100,200,21)\n",
    "    numInclusions =5\n",
    "    num=numInclusions\n",
    "    for w, width in enumerate(widthBoxes):\n",
    "    #outerResolution = width/10.\n",
    "    #inclusionResolution = 0.5\n",
    "    \n",
    "        if doGen:\n",
    "            xmlName = vroom.GenRandomizedMesh(num, widthInclusion, width,\\\n",
    "                                               #randomize=False, #uncomment to make fast \n",
    "                                               inclusionResolution=inclusionResolution,outerResolution=outerResolution,multiple=multiple)\n",
    "        else: \n",
    "             \n",
    "            num = np.float(num)\n",
    "            width = np.float(width)\n",
    "            volFrac = 25*num/(width**2)\n",
    "                \n",
    "            xmlName = \"mesh_%d_ins.xml\"%(width)\n",
    "        \n",
    "        xmlNames.append([xmlName, volFrac,num,width]) \n",
    "\n",
    "#xmlNames.sort(key=operator.itemgetter(1))\n",
    "\n",
    "xmlNames, volFracs, numInclusions_, widthBoxes_ = zip(*xmlNames)\n",
    "\n",
    "print xmlNames\n",
    "print volFracs"
   ]
  },
  {
   "cell_type": "code",
   "execution_count": 22,
   "metadata": {},
   "outputs": [
    {
     "name": "stdout",
     "output_type": "stream",
     "text": [
      "mesh_4_100_ins.xml\n",
      "1.00043649166\n",
      "<diffusionSolver.empty instance at 0x7fd1698b03b0>\n",
      "mesh_5_100_ins.xml\n",
      "1.00094253794\n",
      "<diffusionSolver.empty instance at 0x7fd1698a71b8>\n",
      "mesh_4_110_ins.xml\n",
      "1.00033089404\n",
      "<diffusionSolver.empty instance at 0x7fd16986fdd0>\n",
      "mesh_5_110_ins.xml\n",
      "1.00066695138\n",
      "<diffusionSolver.empty instance at 0x7fd135cb2b48>\n"
     ]
    }
   ],
   "source": [
    "outputs = []\n",
    "test =[1]\n",
    "for i, instance in enumerate(xmlNames): #xmlNames):\n",
    "    numInclusion = numInclusions_[i]\n",
    "    xmlName = xmlNames[i]\n",
    "    widthBox =widthBoxes_[i]\n",
    "    print xmlName\n",
    "    output = run_it_ins(numInclusion, widthInclusion, widthBox,condInclusion, condBulk, voltageL, voltageR,\n",
    "                    xmlName  # if provided with xmlName, don't regen mesh\n",
    "                    )\n",
    "    outputs.append(output)\n",
    "    \n"
   ]
  },
  {
   "cell_type": "code",
   "execution_count": 6,
   "metadata": {
    "collapsed": true
   },
   "outputs": [],
   "source": [
    "import matplotlib.pylab as plt"
   ]
  },
  {
   "cell_type": "code",
   "execution_count": 24,
   "metadata": {},
   "outputs": [
    {
     "name": "stdout",
     "output_type": "stream",
     "text": [
      "1.00043649166\n",
      "1.00094253794\n",
      "1.00033089404\n",
      "1.00066695138\n"
     ]
    },
    {
     "data": {
      "text/plain": [
       "<matplotlib.text.Text at 0x7fd135d31c50>"
      ]
     },
     "execution_count": 24,
     "metadata": {},
     "output_type": "execute_result"
    }
   ],
   "source": [
    "sigmaVals = []\n",
    "for i in range(len(outputs)):\n",
    "    print outputs[i].sig\n",
    "    sigmaVals.append(outputs[i].sig)\n",
    "  \n",
    "\n",
    "  \n",
    "count = 0\n",
    "for i, widthBox in enumerate(widthBoxes):\n",
    "    counts = count +6\n",
    "    plt.plot(volFracs[0], sigmaVals[0])\n",
    "    \n",
    "\n",
    "    \n",
    "plt.title(\"Effective Sigma vs Volume Fraction \")\n",
    "plt.xlabel(\"Volume Fraction of Inclusion\")\n",
    "plt.ylabel(\"Effective Sigma\")\n",
    "\n"
   ]
  },
  {
   "cell_type": "code",
   "execution_count": 25,
   "metadata": {},
   "outputs": [
    {
     "name": "stdout",
     "output_type": "stream",
     "text": [
      "1.00043649166\n"
     ]
    }
   ],
   "source": [
    "print outputs[0].sig"
   ]
  },
  {
   "cell_type": "code",
   "execution_count": 15,
   "metadata": {},
   "outputs": [
    {
     "ename": "NameError",
     "evalue": "name 'answer' is not defined",
     "output_type": "error",
     "traceback": [
      "\u001b[0;31m\u001b[0m",
      "\u001b[0;31mNameError\u001b[0mTraceback (most recent call last)",
      "\u001b[0;32m<ipython-input-15-34cc5dc73999>\u001b[0m in \u001b[0;36m<module>\u001b[0;34m()\u001b[0m\n\u001b[0;32m----> 1\u001b[0;31m \u001b[0;32mprint\u001b[0m \u001b[0manswer\u001b[0m\u001b[0;34m.\u001b[0m\u001b[0msig\u001b[0m\u001b[0;34m\u001b[0m\u001b[0m\n\u001b[0m",
      "\u001b[0;31mNameError\u001b[0m: name 'answer' is not defined"
     ]
    }
   ],
   "source": [
    "print answer.sig\n"
   ]
  },
  {
   "cell_type": "code",
   "execution_count": null,
   "metadata": {
    "collapsed": true
   },
   "outputs": [],
   "source": [
    "inclusions = np.linspace(2,5,4)\n",
    "sigmaEff=[]"
   ]
  },
  {
   "cell_type": "code",
   "execution_count": null,
   "metadata": {
    "collapsed": true
   },
   "outputs": [],
   "source": []
  },
  {
   "cell_type": "code",
   "execution_count": null,
   "metadata": {
    "collapsed": true
   },
   "outputs": [],
   "source": [
    "\n",
    "sigma = []\n",
    "\n",
    " # trivial case where no inclusions present\n",
    "\n",
    "for i, sig in enumerate(sigmaEff):\n",
    "    sigma.append(sigmaEff[i].sig)\n",
    "print sigma\n",
    "plt.plot(inclusions, sigma, 'b', label = \"sigma vs numInsulator\")\n"
   ]
  },
  {
   "cell_type": "code",
   "execution_count": null,
   "metadata": {
    "collapsed": true
   },
   "outputs": [],
   "source": []
  },
  {
   "cell_type": "code",
   "execution_count": null,
   "metadata": {
    "collapsed": true
   },
   "outputs": [],
   "source": []
  },
  {
   "cell_type": "code",
   "execution_count": null,
   "metadata": {
    "collapsed": true
   },
   "outputs": [],
   "source": []
  }
 ],
 "metadata": {
  "kernelspec": {
   "display_name": "Python 2",
   "language": "python",
   "name": "python2"
  },
  "language_info": {
   "codemirror_mode": {
    "name": "ipython",
    "version": 2
   },
   "file_extension": ".py",
   "mimetype": "text/x-python",
   "name": "python",
   "nbconvert_exporter": "python",
   "pygments_lexer": "ipython2",
   "version": "2.7.9"
  }
 },
 "nbformat": 4,
 "nbformat_minor": 1
}
