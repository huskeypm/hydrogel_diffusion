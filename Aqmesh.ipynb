{
 "cells": [
  {
   "cell_type": "code",
   "execution_count": 1,
   "metadata": {},
   "outputs": [],
   "source": [
    "import numpy as np\n",
    "import math as m\n",
    "nm = 1.0e-9"
   ]
  },
  {
   "cell_type": "markdown",
   "metadata": {
    "collapsed": true
   },
   "source": [
    "### THE BELOW ASSUMES MATERIAL IN THE SAME PLANE AS PORE TOPS AND BOTS ARE THE SAME PHYSICAL SURFACE"
   ]
  },
  {
   "cell_type": "markdown",
   "metadata": {},
   "source": [
    "#######BOOMER\n",
    " text+=\"\"\"L1[] = Translate{0,0,%s}{ Duplicata{Line{1};}};\n",
    "L2[] = Translate{0,0,%s}{ Duplicata{Line{2};}};\n",
    "L3[] = Translate{0,0,%s}{ Duplicata{Line{3};}};\n",
    "L4[] = Translate{0,0,%s}{ Duplicata{Line{4};}};\n",
    "Line Loop(2) = {L1[0],L2[0],L3[0],L4[0]};\n",
    "Plane Surface(3) = {2};\n",
    "\n",
    "L5[] = Translate{0,0,%s}{ Duplicata{Line{1};}};\n",
    "L6[] = Translate{0,0,%s}{ Duplicata{Line{2};}};\n",
    "L7[] = Translate{0,0,%s}{ Duplicata{Line{3};}};\n",
    "L8[] = Translate{0,0,%s}{ Duplicata{Line{4};}};\n",
    "Line Loop(3) = {L5[0],L6[0],L7[0],L8[0]};\n",
    "Plane Surface(4) = {3};\n",
    "\"\"\"%((revH+length),(revH+length),(revH+length),(revH+length),-(revH),-(revH),-(revH),-(revH))"
   ]
  },
  {
   "cell_type": "markdown",
   "metadata": {},
   "source": [
    "L9[] = Translate{0,0,length}{ Duplicata{Line{1};}};\n",
    "L10[] = Translate{0,0,length}{ Duplicata{Line{2};}};\n",
    "L11[] = Translate{0,0,length}{ Duplicata{Line{3};}};\n",
    "L12[] = Translate{0,0,length}{ Duplicata{Line{4};}};\n",
    "Line Loop(3) = {L5[0],L6[0],L7[0],L8[0]};\n",
    "Plane Surface(4) = {3};"
   ]
  },
  {
   "cell_type": "markdown",
   "metadata": {},
   "source": [
    "    text+=\"Point(5) = { -boxSize, -boxSize, length, lc};\\n\"\n",
    "    text+=\"Point(6) = { -boxSize, boxSize, length, lc};\\n\"\n",
    "    text+=\"Point(7) = { boxSize, boxSize, length, lc};\\n\"\n",
    "    text+=\"Point(8) = { boxSize, -boxSize, length, lc};\\n\"\n",
    "    text+=\"Line(5) = {5,6};\\n\"\n",
    "    text+=\"Line(6) = {6,7};\\n\"\n",
    "    text+=\"Line(7) = {7,8};\\n\"\n",
    "    text+=\"Line(8) = {8,5};\\n\"\n",
    "    text+=\"Line Loop(5) = {5,6,7,8};\\n\""
   ]
  },
  {
   "cell_type": "markdown",
   "metadata": {},
   "source": [
    "### Need to build the walls of the reservoirs using lines and stuff\n"
   ]
  },
  {
   "cell_type": "code",
   "execution_count": 2,
   "metadata": {},
   "outputs": [],
   "source": [
    "def Cylinder(centers,radius=1e-9,boxSize=15e-9, length = 1e-8, revH = 1e-8):\n",
    "    \n",
    "    text = \"lc = 1e-9;\\n\"\n",
    "    lineNames = \"\"\n",
    "    text+=\"radius = %s;\\n\"%(radius)\n",
    "    text+=\"boxSize = %s;\\n\"%(boxSize)\n",
    "    text+=\"length = %s;\\n\"%length\n",
    "    text+=\"revH =%s;\\n\"%(revH)\n",
    "    text+=\"\"\"\n",
    "Point(1) = { -boxSize, -boxSize, 0, lc};\n",
    "Point(2) = { -boxSize, boxSize, 0, lc};\n",
    "Point(3) = { boxSize, boxSize, 0, lc};\n",
    "Point(4) = { boxSize, -boxSize, 0, lc};\n",
    "Line(1) = {1,2};\n",
    "Line(2) = {2,3};\n",
    "Line(3) = {3,4};\n",
    "Line(4) = {4,1};\n",
    "Line Loop(1) = {1,2,3,4};\n",
    "\n",
    "Point(5) = { -boxSize, -boxSize, length, lc};\n",
    "Point(6) = { -boxSize, boxSize, length, lc};\n",
    "Point(7) = { boxSize, boxSize, length, lc};\n",
    "Point(8) = { boxSize, -boxSize, length, lc};\n",
    "Line(5) = {5,6};\n",
    "Line(6) = {6,7};\n",
    "Line(7) = {7,8};\n",
    "Line(8) = {8,5};\n",
    "Line Loop(2) = {5,6,7,8};\n",
    "\n",
    "Point(9) = { -boxSize, -boxSize, -revH, lc};\n",
    "Point(10) = { -boxSize, boxSize, -revH, lc};\n",
    "Point(11) = { boxSize, boxSize, -revH, lc};\n",
    "Point(12) = { boxSize, -boxSize, -revH, lc};\n",
    "Line(9) = {9,10};\n",
    "Line(10) = {10,11};\n",
    "Line(11) = {11,12};\n",
    "Line(12) = {12,9};\n",
    "Line Loop(6) = {9,10,11,12};\n",
    "Plane Surface(3) = {6};\n",
    "\n",
    "Line(17) = {9,1};\n",
    "Line(18) = {4,12};\n",
    "Line Loop(7) = {17,-4,18,12};\n",
    "Plane Surface(4) = {7};\n",
    "\n",
    "Line(19) = {3,11};\n",
    "Line Loop(8) = {-18,-3,19,11};\n",
    "Plane Surface(5) = {8};\n",
    "\n",
    "Line(20) = {2,10};\n",
    "Line Loop(9) = {-19,-2,20,10};\n",
    "Plane Surface(6) = {9};\n",
    "\n",
    "Line Loop(10) = {-20,-1,-17,9};\n",
    "Plane Surface(7)={10};\n",
    "\n",
    "\n",
    "\n",
    "Point(13) = { -boxSize, -boxSize, length+revH, lc};\n",
    "Point(14) = { -boxSize, boxSize, length+revH, lc};\n",
    "Point(15) = { boxSize, boxSize, length+revH, lc};\n",
    "Point(16) = { boxSize, -boxSize, length+revH, lc};\n",
    "Line(13) = {13,14};\n",
    "Line(14) = {14,15};\n",
    "Line(15) = {15,16};\n",
    "Line(16) = {16,13};\n",
    "Line Loop(11) = {13,14,15,16};\n",
    "Plane Surface(8) = {11};\n",
    "\n",
    "Line(21) = {13,5};\n",
    "Line(22) = {8,16};\n",
    "Line Loop(12) = {-21,-16,-22,8};\n",
    "Plane Surface(9) = {12};\n",
    "\n",
    "Line(23) = {15,7};\n",
    "Line Loop(13) = {22,-15,23,7};\n",
    "Plane Surface(10) = {13};\n",
    "\n",
    "Line(24) = {14,6};\n",
    "Line Loop(14) = {-23,-14,24,6};\n",
    "Plane Surface(11) = {14};\n",
    "\n",
    "Line Loop(15) = {-24,-13,21,5};\n",
    "Plane Surface(12)={15};\n",
    "\n",
    "\"\"\"\n",
    "    \n",
    "    #text+=\"Plane Surface(1) = {1};\\n\"\n",
    "    \n",
    "    ptID=50 \n",
    "    cirNum = 50\n",
    "    for i,center in enumerate(centers):\n",
    "\n",
    "        text+=\"Point(%s) = { %s, %s, 0, lc};\\n\"%(ptID,center[0],center[1])\n",
    "        ptID+=1\n",
    "        \n",
    "        text+=\"Point(%s) = { %s, %s, 0, lc};\\n\"%(ptID,center[0]+radius,center[1])\n",
    "        ptID+=1\n",
    "        \n",
    "        text+=\"Point(%s) = { %s, %s, 0, lc};\\n\"%(ptID,center[0],center[1]-radius)\n",
    "        ptID+=1\n",
    "        \n",
    "        text+=\"Point(%s) = { %s, %s, 0, lc};\\n\"%(ptID,center[0]-radius,center[1])\n",
    "        ptID+=1\n",
    "        \n",
    "        text+=\"Point(%s) = { %s, %s, 0, lc};\\n\"%(ptID,center[0],center[1]+radius)\n",
    "        ptID+=1\n",
    "                                \n",
    "        text+=\"Circle(%s) = { %s, %s, %s};\\n\"%(cirNum,ptID-4,ptID-5,ptID-3)\n",
    "        cirNum+=1\n",
    "        \n",
    "        text+=\"Circle(%s) = { %s, %s, %s};\\n\"%(cirNum,ptID-3,ptID-5,ptID-2)\n",
    "        cirNum+=1\n",
    "        \n",
    "        text+=\"Circle(%s) = { %s, %s, %s};\\n\"%(cirNum,ptID-2,ptID-5,ptID-1)\n",
    "        cirNum+=1\n",
    "        \n",
    "        text+=\"Circle(%s) = { %s, %s, %s};\\n\"%(cirNum,ptID-1,ptID-5,ptID-4)\n",
    "        \n",
    "        \n",
    "        \n",
    "        \n",
    "        text+=\"Line Loop(%s) = {%s,%s,%s,%s};\\n\"%(i+20,cirNum-3,cirNum-2,cirNum-1,cirNum)\n",
    "        text+=\"Plane Surface(%s) = {%s};\\n\\n\"%(i+20,i+20)\n",
    "        cirNum+=1\n",
    "        \n",
    "        if i==0:\n",
    "            lineNames+= str(i+20)    \n",
    "        else:\n",
    "            lineNames+= \",\" + str(i+20)\n",
    "    cirNum+=1 #THIS IS A HACK TO GET extruded circle numbers\n",
    "    text+= \"Plane Surface(1) = {1,%s};\\n\"%(lineNames)\n",
    "    #text+=\"NewSurf1[]=Translate{0,0,%s}{ Duplicata{Surface{1};}};\"%(length)\n",
    "    #text+=\"Plane Surface(2) = {2,%s};\\n\"%(lineNames)\n",
    "\n",
    "    #####  BOOMER GOES HERE\n",
    "   \n",
    "    longString=\"\"\n",
    "    shorterString=\"\"\n",
    "    listExtrudedCircleNames = \"\"\n",
    "    volumeString=\"\"\n",
    "    for i,center in enumerate(centers):\n",
    "        text+=\"\"\"out%s[]=Extrude{0,0,length}{Surface{%s};};\\n\"\"\"%(i+1,i+20)\n",
    "        #text+=\"Volume(%s) = {out%s[1]};\\n\"%(i+5,i+1)\n",
    "        shorterString +=\"out%s[0],\"%(i+1)\n",
    "        volumeString+=\"out%s[1],\"%(i+1)\n",
    "        longString +=\"out%s[2],out%s[3],out%s[4],out%s[5],\"%(i+1,i+1,i+1,i+1)\n",
    "        text+=\"Line Loop(%s) = {%s,%s,%s,%s};\\n\"%(cirNum,cirNum,cirNum+1,cirNum+2,cirNum+3)\n",
    "        listExtrudedCircleNames+= \"%s,\"%(cirNum)\n",
    "        cirNum+=22\n",
    "    longString=longString[:-1]\n",
    "    shorterString=shorterString[:-1]\n",
    "    volumeString=volumeString[:-1]\n",
    "    listExtrudedCircleNames= listExtrudedCircleNames[:-1]\n",
    "    #texts= text[:-2] #this is stupid ugly\n",
    "    text+= \"Plane Surface(2) = {2,%s};\\n\"%(listExtrudedCircleNames)\n",
    "    text+= \"Surface Loop(1) = {1,%s,6,5,3,7,4};\\n\"%(lineNames)\n",
    "    text+= \"Volume(%s) = {1};\\n\"%(cirNum)\n",
    "    text+= \"Surface Loop(2) = {2,%s,9,10,11,8,12};\\n\"%(shorterString)\n",
    "    text+= \"Volume(%s) = {2};\\n\"%(cirNum+1)\n",
    "    \n",
    "    \n",
    "    text+= \"Physical Surface(1) = {1,2};\\n\"  ### This is the z=0 wall not pores\n",
    "    text+= \"Physical Surface(2) = {%s};\\n\"%(lineNames) ### These are the pore bots\n",
    "    text+=\"Physical Surface(3) = {%s};\\n\"%(longString)  ### These are the pore walls\n",
    "    text+=\"Physical Surface(4) = {%s};\\n\"%(shorterString)   ### These are the pore tops\n",
    "    #text+=\"Physical Surface(5) = {3};\\n\"\n",
    "    text+=\"Physical Surface(5) = {3};\\n\"  ### This is the top of the top reservoir\n",
    "    text+=\"Physical Surface(6) = {8};\\n\"  ### This is the bottom of the bottom res\n",
    "    \n",
    "    text+=\"Physical Volume(1) = {%s};\\n\"%(cirNum)\n",
    "    text+=\"Physical Volume(2) = {%s};\\n\"%(cirNum+1)\n",
    "    text+=\"Physical Volume(3) = {%s};\\n\"%(volumeString)\n",
    "    \n",
    "    text+=\"\\n\\n\\n\\n\\n\\n\\n\\n\\n\\n\\n\"\n",
    "    return text\n"
   ]
  },
  {
   "cell_type": "code",
   "execution_count": 3,
   "metadata": {
    "collapsed": true
   },
   "outputs": [],
   "source": [
    "def Build(num, radius,bR,boxSize, length, revH):\n",
    "    centers = getCenters(num,radius,bR)\n",
    "    text = Cylinder(centers,radius,boxSize,length,revH)\n",
    "    print \"post cylinder\"\n",
    "    fileName = \"tester.geo\"\n",
    "    fileLines = []\n",
    "    fileLines.append(text)\n",
    "    with open(fileName, \"w\") as text_file:\n",
    "                for fileLine in fileLines:\n",
    "                        text_file.write(fileLine)\n",
    "\n",
    "\n",
    "    import os\n",
    "    mshName = fileName.replace(\".geo\",\".msh\")\n",
    "    xmlName = fileName.replace(\".geo\",\".xml\")\n",
    "    print \"pre OS\"\n",
    "    line = \"gmsh -3 %s\"%fileName\n",
    "    os.system(line)\n",
    "    line=\"dolfin-convert %s %s\"%(mshName,xmlName)\n",
    "    os.system(line)\n",
    "    print \"post OS\"\n",
    "    print xmlName\n",
    "    return xmlName\n"
   ]
  },
  {
   "cell_type": "code",
   "execution_count": 4,
   "metadata": {
    "collapsed": true
   },
   "outputs": [],
   "source": [
    "def getCenters(num,radius,bR):\n",
    "    numS = num**2\n",
    "    i=0\n",
    "    centers = [];\n",
    "\n",
    "    if num%2!=0:\n",
    "        while i <num:\n",
    "            j=0\n",
    "            x = radius*(-(3*num-4)/2+3*i)\n",
    "            while j < num:\n",
    "                \n",
    "                y = radius*(-(3*num-4)/2+3*j)\n",
    "                if (x**2)+(y**2)<bR**2:\n",
    "                    this = False\n",
    "                else:\n",
    "                    centers.append((x,y))\n",
    "                j+=1\n",
    "            i+=1\n",
    "\n",
    "    if num%2==0:\n",
    "        while i <num:\n",
    "            j=0\n",
    "            x = radius*(-(3*num-4)/2+3*i-0.5)\n",
    "            while j < num:\n",
    "                y = radius*(-(3*num-4)/2+3*j-0.5)\n",
    "                if (x**2)+(y**2)<bR**2:\n",
    "                    this = False\n",
    "                else:\n",
    "                    centers.append((x,y))\n",
    "                j+=1\n",
    "            i+=1\n",
    "    return centers\n",
    "\n"
   ]
  },
  {
   "cell_type": "code",
   "execution_count": 5,
   "metadata": {
    "collapsed": true
   },
   "outputs": [],
   "source": [
    "radius = 1e-9  #radius of the nanopores\n",
    "bigR = 9e-9    #radius of the occlusion\n",
    "boxSize = 15e-9 # size of the region being built\n",
    "length = 1.5e-8\n",
    "revH = 1e-8"
   ]
  },
  {
   "cell_type": "code",
   "execution_count": 6,
   "metadata": {},
   "outputs": [
    {
     "name": "stdout",
     "output_type": "stream",
     "text": [
      "post cylinder\n",
      "pre OS\n",
      "post OS\n",
      "tester.xml\n",
      "nope\n"
     ]
    }
   ],
   "source": [
    "Build(9,radius,bigR,boxSize,length,revH)\n",
    "print \"nope\""
   ]
  },
  {
   "cell_type": "code",
   "execution_count": 7,
   "metadata": {},
   "outputs": [
    {
     "name": "stdout",
     "output_type": "stream",
     "text": [
      "sos\n"
     ]
    }
   ],
   "source": [
    "print \"sos\""
   ]
  },
  {
   "cell_type": "code",
   "execution_count": null,
   "metadata": {
    "collapsed": true
   },
   "outputs": [],
   "source": []
  },
  {
   "cell_type": "code",
   "execution_count": null,
   "metadata": {
    "collapsed": true
   },
   "outputs": [],
   "source": []
  },
  {
   "cell_type": "code",
   "execution_count": null,
   "metadata": {
    "collapsed": true
   },
   "outputs": [],
   "source": []
  },
  {
   "cell_type": "code",
   "execution_count": null,
   "metadata": {
    "collapsed": true
   },
   "outputs": [],
   "source": []
  }
 ],
 "metadata": {
  "kernelspec": {
   "display_name": "Python 2",
   "language": "python",
   "name": "python2"
  },
  "language_info": {
   "codemirror_mode": {
    "name": "ipython",
    "version": 2
   },
   "file_extension": ".py",
   "mimetype": "text/x-python",
   "name": "python",
   "nbconvert_exporter": "python",
   "pygments_lexer": "ipython2",
   "version": "2.7.12"
  }
 },
 "nbformat": 4,
 "nbformat_minor": 2
}
