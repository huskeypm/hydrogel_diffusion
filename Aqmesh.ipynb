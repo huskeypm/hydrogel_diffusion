{
 "cells": [
  {
   "cell_type": "code",
   "execution_count": 84,
   "metadata": {},
   "outputs": [],
   "source": [
    "import numpy as np\n",
    "import math as m\n",
    "nm = 1.0e-9"
   ]
  },
  {
   "cell_type": "code",
   "execution_count": null,
   "metadata": {},
   "outputs": [],
   "source": []
  },
  {
   "cell_type": "code",
   "execution_count": 118,
   "metadata": {
    "collapsed": true
   },
   "outputs": [],
   "source": [
    "def Cylinder(centers,radius):\n",
    "    \n",
    "    text = \"lc = 1e-9;\\n\"\n",
    "    lineNames = \"\"\n",
    "    text+=\"radius = %s;\\n\"%(radius)\n",
    "    text+=\"Point(1) = { -30*radius, -30*radius, 0, lc};\\n\"\n",
    "    text+=\"Point(2) = { -30*radius, 30*radius, 0, lc};\\n\"\n",
    "    text+=\"Point(3) = { 30*radius, 30*radius, 0, lc};\\n\"\n",
    "    text+=\"Point(4) = { 30*radius, -30*radius, 0, lc};\\n\"\n",
    "    text+=\"Line(1) = {1,2};\\n\"\n",
    "    text+=\"Line(2) = {2,3};\\n\"\n",
    "    text+=\"Line(3) = {3,4};\\n\"\n",
    "    text+=\"Line(4) = {4,1};\\n\"\n",
    "    text+=\"Line Loop(1) = {1,2,3,4};\\n\"\n",
    "    #text+=\"Plane Surface(1) = {1};\\n\"\n",
    "    \n",
    "    ptID=5 \n",
    "    cirNum = 10\n",
    "    for i,center in enumerate(centers):\n",
    "\n",
    "        text+=\"Point(%s) = { %s, %s, 0, lc};\\n\"%(ptID,center[0],center[1])\n",
    "        ptID+=1\n",
    "        \n",
    "        text+=\"Point(%s) = { %s, %s, 0, lc};\\n\"%(ptID,center[0]+radius,center[1])\n",
    "        ptID+=1\n",
    "        \n",
    "        text+=\"Point(%s) = { %s, %s, 0, lc};\\n\"%(ptID,center[0],center[1]-radius)\n",
    "        ptID+=1\n",
    "        \n",
    "        text+=\"Point(%s) = { %s, %s, 0, lc};\\n\"%(ptID,center[0]-radius,center[1])\n",
    "        ptID+=1\n",
    "        \n",
    "        text+=\"Point(%s) = { %s, %s, 0, lc};\\n\"%(ptID,center[0],center[1]+radius)\n",
    "        ptID+=1\n",
    "                                \n",
    "        text+=\"Circle(%s) = { %s, %s, %s};\\n\"%(cirNum,ptID-4,ptID-5,ptID-3)\n",
    "        cirNum+=1\n",
    "        \n",
    "        text+=\"Circle(%s) = { %s, %s, %s};\\n\"%(cirNum,ptID-3,ptID-5,ptID-2)\n",
    "        cirNum+=1\n",
    "        \n",
    "        text+=\"Circle(%s) = { %s, %s, %s};\\n\"%(cirNum,ptID-2,ptID-5,ptID-1)\n",
    "        cirNum+=1\n",
    "        \n",
    "        text+=\"Circle(%s) = { %s, %s, %s};\\n\"%(cirNum,ptID-1,ptID-5,ptID-4)\n",
    "        \n",
    "        \n",
    "        \n",
    "        \n",
    "        text+=\"Line Loop(%s) = {%s,%s,%s,%s};\\n\"%(i+5,cirNum-3,cirNum-2,cirNum-1,cirNum)\n",
    "        text+=\"Plane Surface(%s) = {%s};\\n\\n\"%(i+5,i+5)\n",
    "        cirNum+=1\n",
    "        \n",
    "        if i==0:\n",
    "            lineNames+= str(i+5)    \n",
    "        else:\n",
    "            lineNames+= \",\" + str(i+5)\n",
    "    text+= \"Plane Surface(1) = {1,%s};\\n\"%(lineNames)\n",
    "    text+= \"//Physical Surface(1) = {1};\\n\"\n",
    "    text+= \"//Physical Surface(2) = {%s};\\n\"%(lineNames)\n",
    "    for i,center in enumerate(centers):\n",
    "        text+=\"\"\"out%s[]=Extrude{0,0,1e-8}{Surface{%s};};\\n\"\"\"%(i+1,i+5)\n",
    "        #text+=\"Volume(%s) = {out%s[1]};\\n\"%(i+5,i+1)\n",
    "\n",
    "    #texts= text[:-2] #this is stupid ugly\n",
    "    text+=\"\\n\\n\\n\\n\\n\\n\\n\\n\\n\\n\\n\"\n",
    "    return text\n"
   ]
  },
  {
   "cell_type": "code",
   "execution_count": 119,
   "metadata": {
    "collapsed": true
   },
   "outputs": [],
   "source": [
    "def Build(num, radius,bR):\n",
    "    centers = getCenters(num,radius,bR)\n",
    "    text = Cylinder(centers,radius)\n",
    "    print \"post cylinder\"\n",
    "    fileName = \"tester.geo\"\n",
    "    fileLines = []\n",
    "    fileLines.append(text)\n",
    "    with open(fileName, \"w\") as text_file:\n",
    "                for fileLine in fileLines:\n",
    "                        text_file.write(fileLine)\n",
    "\n",
    "\n",
    "    import os\n",
    "    mshName = fileName.replace(\".geo\",\".msh\")\n",
    "    xmlName = fileName.replace(\".geo\",\".xml\")\n",
    "    print \"pre OS\"\n",
    "    line = \"gmsh -3 %s\"%fileName\n",
    "    #os.system(line)\n",
    "    #line=\"dolfin-convert %s %s\"%(mshName,xmlName)\n",
    "    #os.system(line)\n",
    "    print \"post OS\"\n",
    "    print xmlName\n",
    "    return xmlName\n"
   ]
  },
  {
   "cell_type": "code",
   "execution_count": 120,
   "metadata": {
    "collapsed": true
   },
   "outputs": [],
   "source": [
    "def getCenters(num,radius,bR):\n",
    "    numS = num**2\n",
    "    i=0\n",
    "    centers = [];\n",
    "\n",
    "    if num%2!=0:\n",
    "        while i <num:\n",
    "            j=0\n",
    "            x = radius*(-(3*num-4)/2+3*i)\n",
    "            while j < num:\n",
    "                \n",
    "                y = radius*(-(3*num-4)/2+3*j)\n",
    "                if (x**2)+(y**2)<bR**2:\n",
    "                    this = False\n",
    "                else:\n",
    "                    centers.append((x,y))\n",
    "                j+=1\n",
    "            i+=1\n",
    "\n",
    "    if num%2==0:\n",
    "        while i <num:\n",
    "            j=0\n",
    "            x = radius*(-(3*num-10)/2+3*i)\n",
    "            while j < num:\n",
    "                y = radius*(-(3*num-4)/2+3*j)\n",
    "                if (x**2)+(y**2)<bR**2:\n",
    "                    this = False\n",
    "                else:\n",
    "                    centers.append((x,y))\n",
    "                j+=1\n",
    "            i+=1\n",
    "    return centers\n",
    "\n"
   ]
  },
  {
   "cell_type": "code",
   "execution_count": 121,
   "metadata": {
    "collapsed": true
   },
   "outputs": [],
   "source": [
    "radius = 1e-9\n",
    "bR = 9e-9"
   ]
  },
  {
   "cell_type": "code",
   "execution_count": 122,
   "metadata": {},
   "outputs": [
    {
     "name": "stdout",
     "output_type": "stream",
     "text": [
      "post cylinder\n",
      "pre OS\n",
      "post OS\n",
      "tester.xml\n",
      "nope\n"
     ]
    }
   ],
   "source": [
    "Build(18,radius,bR)\n",
    "print \"nope\""
   ]
  },
  {
   "cell_type": "code",
   "execution_count": 117,
   "metadata": {},
   "outputs": [
    {
     "name": "stdout",
     "output_type": "stream",
     "text": [
      "sos\n"
     ]
    }
   ],
   "source": [
    "print \"sos\""
   ]
  },
  {
   "cell_type": "code",
   "execution_count": null,
   "metadata": {
    "collapsed": true
   },
   "outputs": [],
   "source": []
  },
  {
   "cell_type": "code",
   "execution_count": null,
   "metadata": {
    "collapsed": true
   },
   "outputs": [],
   "source": []
  },
  {
   "cell_type": "code",
   "execution_count": null,
   "metadata": {
    "collapsed": true
   },
   "outputs": [],
   "source": []
  }
 ],
 "metadata": {
  "kernelspec": {
   "display_name": "Python 2",
   "language": "python",
   "name": "python2"
  },
  "language_info": {
   "codemirror_mode": {
    "name": "ipython",
    "version": 2
   },
   "file_extension": ".py",
   "mimetype": "text/x-python",
   "name": "python",
   "nbconvert_exporter": "python",
   "pygments_lexer": "ipython2",
   "version": "2.7.12"
  }
 },
 "nbformat": 4,
 "nbformat_minor": 2
}
