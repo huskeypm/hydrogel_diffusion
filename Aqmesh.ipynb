{
 "cells": [
  {
   "cell_type": "code",
   "execution_count": 1,
   "metadata": {},
   "outputs": [],
   "source": [
    "import numpy as np\n",
    "import math as m\n",
    "nm = 1.0e-9"
   ]
  },
  {
   "cell_type": "markdown",
   "metadata": {
    "collapsed": true
   },
   "source": [
    "### THE BELOW ASSUMES MATERIAL IN THE SAME PLANE AS PORE TOPS AND BOTS ARE THE SAME PHYSICAL SURFACE"
   ]
  },
  {
   "cell_type": "markdown",
   "metadata": {},
   "source": [
    "#######BOOMER\n",
    "text+=\"\"\"L1[] = Translate{0,0,2e-8}{ Duplicata{Line{1};}};\n",
    "L2[] = Translate{0,0,2e-8}{ Duplicata{Line{2};}};\n",
    "L3[] = Translate{0,0,2e-8}{ Duplicata{Line{3};}};\n",
    "L4[] = Translate{0,0,2e-8}{ Duplicata{Line{4};}};\n",
    "Line Loop(2) = {L1[0],L2[0],L3[0],L4[0]};\n",
    "Plane Surface(3) = {2};\n",
    "\n",
    "L5[] = Translate{0,0,-1e-8}{ Duplicata{Line{1};}};\n",
    "L6[] = Translate{0,0,-1e-8}{ Duplicata{Line{2};}};\n",
    "L7[] = Translate{0,0,-1e-8}{ Duplicata{Line{3};}};\n",
    "L8[] = Translate{0,0,-1e-8}{ Duplicata{Line{4};}};\n",
    "Line Loop(3) = {L5[0],L6[0],L7[0],L8[0]};\n",
    "Plane Surface(4) = {3};\n",
    "\"\"\""
   ]
  },
  {
   "cell_type": "code",
   "execution_count": 2,
   "metadata": {
    "collapsed": true
   },
   "outputs": [],
   "source": [
    "def Cylinder(centers,radius=1e-9,boxSize=15e-9):\n",
    "    \n",
    "    text = \"lc = 1e-9;\\n\"\n",
    "    lineNames = \"\"\n",
    "    text+=\"radius = %s;\\n\"%(radius)\n",
    "    text+=\"boxSize = %s;\\n\"%(boxSize)\n",
    "    text+=\"Point(1) = { -boxSize, -boxSize, 0, lc};\\n\"\n",
    "    text+=\"Point(2) = { -boxSize, boxSize, 0, lc};\\n\"\n",
    "    text+=\"Point(3) = { boxSize, boxSize, 0, lc};\\n\"\n",
    "    text+=\"Point(4) = { boxSize, -boxSize, 0, lc};\\n\"\n",
    "    text+=\"Line(1) = {1,2};\\n\"\n",
    "    text+=\"Line(2) = {2,3};\\n\"\n",
    "    text+=\"Line(3) = {3,4};\\n\"\n",
    "    text+=\"Line(4) = {4,1};\\n\"\n",
    "    text+=\"Line Loop(1) = {1,2,3,4};\\n\"\n",
    "    \n",
    "    #text+=\"Plane Surface(1) = {1};\\n\"\n",
    "    \n",
    "    ptID=5 \n",
    "    cirNum = 10\n",
    "    for i,center in enumerate(centers):\n",
    "\n",
    "        text+=\"Point(%s) = { %s, %s, 0, lc};\\n\"%(ptID,center[0],center[1])\n",
    "        ptID+=1\n",
    "        \n",
    "        text+=\"Point(%s) = { %s, %s, 0, lc};\\n\"%(ptID,center[0]+radius,center[1])\n",
    "        ptID+=1\n",
    "        \n",
    "        text+=\"Point(%s) = { %s, %s, 0, lc};\\n\"%(ptID,center[0],center[1]-radius)\n",
    "        ptID+=1\n",
    "        \n",
    "        text+=\"Point(%s) = { %s, %s, 0, lc};\\n\"%(ptID,center[0]-radius,center[1])\n",
    "        ptID+=1\n",
    "        \n",
    "        text+=\"Point(%s) = { %s, %s, 0, lc};\\n\"%(ptID,center[0],center[1]+radius)\n",
    "        ptID+=1\n",
    "                                \n",
    "        text+=\"Circle(%s) = { %s, %s, %s};\\n\"%(cirNum,ptID-4,ptID-5,ptID-3)\n",
    "        cirNum+=1\n",
    "        \n",
    "        text+=\"Circle(%s) = { %s, %s, %s};\\n\"%(cirNum,ptID-3,ptID-5,ptID-2)\n",
    "        cirNum+=1\n",
    "        \n",
    "        text+=\"Circle(%s) = { %s, %s, %s};\\n\"%(cirNum,ptID-2,ptID-5,ptID-1)\n",
    "        cirNum+=1\n",
    "        \n",
    "        text+=\"Circle(%s) = { %s, %s, %s};\\n\"%(cirNum,ptID-1,ptID-5,ptID-4)\n",
    "        \n",
    "        \n",
    "        \n",
    "        \n",
    "        text+=\"Line Loop(%s) = {%s,%s,%s,%s};\\n\"%(i+5,cirNum-3,cirNum-2,cirNum-1,cirNum)\n",
    "        text+=\"Plane Surface(%s) = {%s};\\n\\n\"%(i+5,i+5)\n",
    "        cirNum+=1\n",
    "        \n",
    "        if i==0:\n",
    "            lineNames+= str(i+5)    \n",
    "        else:\n",
    "            lineNames+= \",\" + str(i+5)\n",
    "    text+= \"Plane Surface(1) = {1,%s};\\n\"%(lineNames)\n",
    "    text+=\"NewSurf1[]=Translate{0,0,1e-8}{ Duplicata{Surface{1};}};\"\n",
    "    text+= \"Physical Surface(1) = {1,NewSurf1[0]};\\n\"  ### This is the z=0 wall not pores\n",
    "    text+= \"Physical Surface(2) = {%s};\\n\"%(lineNames) ### These are the pore bots\n",
    "    #####  BOOMER GOES HERE\n",
    "    text+=\"\"\"L1[] = Translate{0,0,2e-8}{ Duplicata{Line{1};}};\n",
    "L2[] = Translate{0,0,2e-8}{ Duplicata{Line{2};}};\n",
    "L3[] = Translate{0,0,2e-8}{ Duplicata{Line{3};}};\n",
    "L4[] = Translate{0,0,2e-8}{ Duplicata{Line{4};}};\n",
    "Line Loop(2) = {L1[0],L2[0],L3[0],L4[0]};\n",
    "Plane Surface(3) = {2};\n",
    "\n",
    "L5[] = Translate{0,0,-1e-8}{ Duplicata{Line{1};}};\n",
    "L6[] = Translate{0,0,-1e-8}{ Duplicata{Line{2};}};\n",
    "L7[] = Translate{0,0,-1e-8}{ Duplicata{Line{3};}};\n",
    "L8[] = Translate{0,0,-1e-8}{ Duplicata{Line{4};}};\n",
    "Line Loop(3) = {L5[0],L6[0],L7[0],L8[0]};\n",
    "Plane Surface(4) = {3};\n",
    "\"\"\"\n",
    "    longString=\"\"\n",
    "    shorterString=\"\"\n",
    "    for i,center in enumerate(centers):\n",
    "        text+=\"\"\"out%s[]=Extrude{0,0,1e-8}{Surface{%s};};\\n\"\"\"%(i+1,i+5)\n",
    "        #text+=\"Volume(%s) = {out%s[1]};\\n\"%(i+5,i+1)\n",
    "        shorterString +=\"out%s[0],\"%(i+1)\n",
    "        longString +=\"out%s[2],out%s[3],out%s[4],out%s[5],\"%(i+1,i+1,i+1,i+1)\n",
    "    longString=longString[:-1]\n",
    "    shorterString=shorterString[:-1]\n",
    "    #texts= text[:-2] #this is stupid ugly\n",
    "    text+=\"Physical Surface(3) = {%s};\\n\"%(longString)  ### These are the pore walls\n",
    "    text+=\"Physical Surface(4) = {%s};\\n\"%(shorterString)   ### These are the pore tops\n",
    "    #text+=\"Physical Surface(5) = {3};\\n\"\n",
    "    text+=\"Physical Surface(5) = {3};\\n\"  ### This is the top of the top reservoir\n",
    "    text+=\"Physical Surface(6) = {4};\\n\"  ### This is the bottom of the bottom res\n",
    "    text+=\"\\n\\n\\n\\n\\n\\n\\n\\n\\n\\n\\n\"\n",
    "    return text\n"
   ]
  },
  {
   "cell_type": "code",
   "execution_count": 3,
   "metadata": {
    "collapsed": true
   },
   "outputs": [],
   "source": [
    "def Build(num, radius,bR,boxSize):\n",
    "    centers = getCenters(num,radius,bR)\n",
    "    text = Cylinder(centers,radius,boxSize)\n",
    "    print \"post cylinder\"\n",
    "    fileName = \"tester.geo\"\n",
    "    fileLines = []\n",
    "    fileLines.append(text)\n",
    "    with open(fileName, \"w\") as text_file:\n",
    "                for fileLine in fileLines:\n",
    "                        text_file.write(fileLine)\n",
    "\n",
    "\n",
    "    import os\n",
    "    mshName = fileName.replace(\".geo\",\".msh\")\n",
    "    xmlName = fileName.replace(\".geo\",\".xml\")\n",
    "    print \"pre OS\"\n",
    "    line = \"gmsh -3 %s\"%fileName\n",
    "    os.system(line)\n",
    "    line=\"dolfin-convert %s %s\"%(mshName,xmlName)\n",
    "    os.system(line)\n",
    "    print \"post OS\"\n",
    "    print xmlName\n",
    "    return xmlName\n"
   ]
  },
  {
   "cell_type": "code",
   "execution_count": 4,
   "metadata": {
    "collapsed": true
   },
   "outputs": [],
   "source": [
    "def getCenters(num,radius,bR):\n",
    "    numS = num**2\n",
    "    i=0\n",
    "    centers = [];\n",
    "\n",
    "    if num%2!=0:\n",
    "        while i <num:\n",
    "            j=0\n",
    "            x = radius*(-(3*num-4)/2+3*i)\n",
    "            while j < num:\n",
    "                \n",
    "                y = radius*(-(3*num-4)/2+3*j)\n",
    "                if (x**2)+(y**2)<bR**2:\n",
    "                    this = False\n",
    "                else:\n",
    "                    centers.append((x,y))\n",
    "                j+=1\n",
    "            i+=1\n",
    "\n",
    "    if num%2==0:\n",
    "        while i <num:\n",
    "            j=0\n",
    "            x = radius*(-(3*num-4)/2+3*i-0.5)\n",
    "            while j < num:\n",
    "                y = radius*(-(3*num-4)/2+3*j-0.5)\n",
    "                if (x**2)+(y**2)<bR**2:\n",
    "                    this = False\n",
    "                else:\n",
    "                    centers.append((x,y))\n",
    "                j+=1\n",
    "            i+=1\n",
    "    return centers\n",
    "\n"
   ]
  },
  {
   "cell_type": "code",
   "execution_count": 5,
   "metadata": {
    "collapsed": true
   },
   "outputs": [],
   "source": [
    "radius = 1e-9  #radius of the nanopores\n",
    "bigR = 9e-9    #radius of the occlusion\n",
    "boxSize = 15e-9 # size of the region being built\n",
    "revH = "
   ]
  },
  {
   "cell_type": "code",
   "execution_count": 6,
   "metadata": {},
   "outputs": [
    {
     "name": "stdout",
     "output_type": "stream",
     "text": [
      "post cylinder\n",
      "pre OS\n",
      "post OS\n",
      "tester.xml\n",
      "nope\n"
     ]
    }
   ],
   "source": [
    "Build(10,radius,bigR,boxSize)\n",
    "print \"nope\""
   ]
  },
  {
   "cell_type": "code",
   "execution_count": 7,
   "metadata": {},
   "outputs": [
    {
     "name": "stdout",
     "output_type": "stream",
     "text": [
      "sos\n"
     ]
    }
   ],
   "source": [
    "print \"sos\""
   ]
  },
  {
   "cell_type": "code",
   "execution_count": null,
   "metadata": {
    "collapsed": true
   },
   "outputs": [],
   "source": []
  },
  {
   "cell_type": "code",
   "execution_count": null,
   "metadata": {
    "collapsed": true
   },
   "outputs": [],
   "source": []
  },
  {
   "cell_type": "code",
   "execution_count": null,
   "metadata": {
    "collapsed": true
   },
   "outputs": [],
   "source": []
  },
  {
   "cell_type": "code",
   "execution_count": null,
   "metadata": {
    "collapsed": true
   },
   "outputs": [],
   "source": []
  }
 ],
 "metadata": {
  "kernelspec": {
   "display_name": "Python 2",
   "language": "python",
   "name": "python2"
  },
  "language_info": {
   "codemirror_mode": {
    "name": "ipython",
    "version": 2
   },
   "file_extension": ".py",
   "mimetype": "text/x-python",
   "name": "python",
   "nbconvert_exporter": "python",
   "pygments_lexer": "ipython2",
   "version": "2.7.12"
  }
 },
 "nbformat": 4,
 "nbformat_minor": 2
}
