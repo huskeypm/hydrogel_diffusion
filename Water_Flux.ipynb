{
 "cells": [
  {
   "cell_type": "code",
   "execution_count": 1,
   "metadata": {
    "collapsed": true
   },
   "outputs": [],
   "source": [
    "import numpy as np\n",
    "import matplotlib.pylab as plt\n",
    "import matplotlib.pyplot as plotter\n",
    "%matplotlib inline"
   ]
  },
  {
   "cell_type": "code",
   "execution_count": null,
   "metadata": {
    "collapsed": true
   },
   "outputs": [],
   "source": []
  },
  {
   "cell_type": "code",
   "execution_count": 2,
   "metadata": {
    "collapsed": true
   },
   "outputs": [],
   "source": [
    "#independent variable\n",
    "volume = np.linspace(2,222,111)\n",
    "\n",
    "#dependent vartiables\n",
    "file = open('AQ_flux.txt', 'r') \n",
    "AQ_data = file.read().strip()\n",
    "file.close()\n",
    "file = open('PBI_flux.txt', 'r') \n",
    "PBI_data = file.read().strip()\n",
    "file.close()\n",
    "file = open('PVA_flux.txt', 'r') \n",
    "PVA_data = file.read().strip()\n",
    "file.close()"
   ]
  },
  {
   "cell_type": "markdown",
   "metadata": {},
   "source": [
    " Read in Flux data\n"
   ]
  },
  {
   "cell_type": "code",
   "execution_count": 3,
   "metadata": {
    "collapsed": true
   },
   "outputs": [],
   "source": [
    "ppm_to_M = 1/58.4e3     # [1ppm = 1 mg/L = 1 mol /58.4e3 mg / L = [M]]\n",
    "days_to_sec = 1 * 24 * 60 * 60\n",
    "def getData(v1):\n",
    "  ar = []\n",
    "  for spl in v1.splitlines():\n",
    "    dar = spl.split()\n",
    "    dar = dar[1:]\n",
    "    dar2 = [np.float(s) for s in dar]\n",
    "    #print dar2\n",
    "    ar.append(dar2)\n",
    "  ar = np.asarray(ar)\n",
    "  #print \"printing ar\", ar\n",
    "  #ar[:,0]*=days_to_sec\n",
    "  #ar[:,1]*=ppm_to_M  \n",
    "  #ar[:,2]*=ppm_to_M  \n",
    "  return ar  \n",
    "    \n",
    "    "
   ]
  },
  {
   "cell_type": "code",
   "execution_count": 4,
   "metadata": {
    "collapsed": true
   },
   "outputs": [],
   "source": [
    "AQ_flux = getData(AQ_data)\n",
    "PVA_flux = getData(PVA_data)\n",
    "PBI_flux = getData(PBI_data)\n",
    "\n",
    "Water_means = [np.average(PBI_flux),np.average(PVA_flux),np.average(AQ_flux)]\n",
    "Water_std = [np.std(PBI_flux),np.std(PVA_flux),np.std(AQ_flux)]"
   ]
  },
  {
   "cell_type": "code",
   "execution_count": 5,
   "metadata": {},
   "outputs": [
    {
     "name": "stdout",
     "output_type": "stream",
     "text": [
      "0.3860715908638589\n"
     ]
    }
   ],
   "source": [
    "print(np.average(PVA_flux/AQ_flux))"
   ]
  },
  {
   "cell_type": "code",
   "execution_count": 6,
   "metadata": {},
   "outputs": [
    {
     "name": "stdout",
     "output_type": "stream",
     "text": [
      "0.5018911666666667\n"
     ]
    }
   ],
   "source": [
    "freePores = [0.49762512, 0.64333092, 0.36471746]\n",
    "print(np.average(freePores))\n"
   ]
  },
  {
   "cell_type": "markdown",
   "metadata": {},
   "source": [
    "Data from ion flux across the membrane"
   ]
  },
  {
   "cell_type": "code",
   "execution_count": 7,
   "metadata": {
    "collapsed": true
   },
   "outputs": [],
   "source": [
    "PBI_mean = 1.0294373595341794e-06 *10**7\n",
    "PVA_mean =  9.050330852717195e-07 *10**7\n",
    "AQ_mean =  4.478926839010504e-07 *10**7\n",
    "\n",
    "PBI_std =  2.274582275457724e-07 *10**7\n",
    "PVA_std =  1.9660347564233754e-07 *10**7\n",
    "AQ_std =  1.1458583674317008e-07*10**7\n"
   ]
  },
  {
   "cell_type": "code",
   "execution_count": 8,
   "metadata": {
    "collapsed": true
   },
   "outputs": [],
   "source": [
    "Ion_means = [PBI_mean,PVA_mean,AQ_mean]\n",
    "Ion_std = [PBI_std, PVA_std, AQ_std]"
   ]
  },
  {
   "cell_type": "code",
   "execution_count": 9,
   "metadata": {},
   "outputs": [
    {
     "data": {
      "text/plain": [
       "[10.294373595341794, 9.050330852717195, 4.478926839010504]"
      ]
     },
     "execution_count": 9,
     "metadata": {},
     "output_type": "execute_result"
    }
   ],
   "source": [
    "Ion_means"
   ]
  },
  {
   "cell_type": "code",
   "execution_count": 10,
   "metadata": {},
   "outputs": [
    {
     "data": {
      "image/png": "[encoded data removed]",
      "text/plain": [
       "<Figure size 432x288 with 1 Axes>"
      ]
     },
     "metadata": {},
     "output_type": "display_data"
    }
   ],
   "source": [
    "fig, ax = plt.subplots()\n",
    "index = np.arange(3)\n",
    "bar_width = 0.35\n",
    "error_config = {'ecolor': '0.3'}\n",
    "rects1 = ax.bar(index,Ion_means, bar_width, color='b',yerr = Ion_std, error_kw=error_config,label='Ions')\n",
    "rects2 = ax.bar(index+bar_width,Water_means, bar_width, color='r',yerr = Water_std, error_kw=error_config,label='Water')\n",
    "ax.set_xlabel('Membrane')\n",
    "ax.set_ylabel('Diffusion')\n",
    "ax.set_title('Flux data')\n",
    "ax.set_xticks(index + bar_width / 2)\n",
    "ax.set_xticklabels(('PBI', 'PVA', 'AQ'))\n",
    "ax.legend()\n",
    "\n",
    "fig.tight_layout()\n",
    "plt.show()\n"
   ]
  },
  {
   "cell_type": "markdown",
   "metadata": {},
   "source": [
    "Now for the more interesting case of putting the data into context:\n",
    "The left bar will nowe represent the change in conductivity across the membrane as a ratio of one membrane compared to the others, and the same will be done for water permeation across the membrane for the right chart\n"
   ]
  },
  {
   "cell_type": "code",
   "execution_count": 11,
   "metadata": {
    "collapsed": true
   },
   "outputs": [],
   "source": [
    "Ion_ints = [PVA_mean/PBI_mean,AQ_mean/PBI_mean,AQ_mean/PVA_mean]\n",
    "apbi =np.average(PBI_flux)\n",
    "apva = np.average(PVA_flux)\n",
    "aaq = np.average(AQ_flux)\n",
    "Water_ints = [apva/apbi,aaq/apbi,aaq/apva]"
   ]
  },
  {
   "cell_type": "code",
   "execution_count": 12,
   "metadata": {},
   "outputs": [
    {
     "data": {
      "image/png": "[encoded data removed]",
      "text/plain": [
       "<Figure size 432x288 with 1 Axes>"
      ]
     },
     "metadata": {},
     "output_type": "display_data"
    }
   ],
   "source": [
    "fig, ax = plt.subplots()\n",
    "index = np.arange(3)\n",
    "bar_width = 0.35\n",
    "error_config = {'ecolor': '0.3'}\n",
    "rects1 = ax.bar(index,Ion_ints, bar_width, color='b',label='Ions')\n",
    "rects2 = ax.bar(index+bar_width,Water_ints, bar_width, color='r',label='Water')\n",
    "ax.set_xlabel('Membrane')\n",
    "ax.set_ylabel('Diffusion')\n",
    "ax.set_title('Flux data')\n",
    "ax.set_xticks(index + bar_width / 2)\n",
    "ax.set_xticklabels(('PVA/PBI', 'AQ/PBI', 'AQ/PVA'))\n",
    "ax.legend(loc=2)\n",
    "\n",
    "fig.tight_layout()\n",
    "plt.show()\n"
   ]
  },
  {
   "cell_type": "markdown",
   "metadata": {},
   "source": [
    "In better context:\n",
    "$ \\frac{1}{Water_{ints[2]}}$ to find the number of free pores as this represents the number of pores that are n"
   ]
  },
  {
   "cell_type": "code",
   "execution_count": 13,
   "metadata": {},
   "outputs": [
    {
     "data": {
      "image/png": "[encoded data removed]",
      "text/plain": [
       "<Figure size 432x288 with 1 Axes>"
      ]
     },
     "metadata": {},
     "output_type": "display_data"
    }
   ],
   "source": [
    "fig, ax = plt.subplots()\n",
    "index = np.arange(1)\n",
    "bar_width = 1\n",
    "error_config = {'ecolor': '0.3'}\n",
    "rects1 = ax.bar(index,Ion_ints[2], bar_width, color='b',label='Ions')\n",
    "rects2 = ax.bar(index+bar_width,1/Water_ints[2], bar_width, color='r',label='Water')\n",
    "ax.set_xlabel('AQ/PVA')\n",
    "ax.set_ylabel('ratio pores occluded')\n",
    "ax.set_title('Flux data')\n",
    "ax.legend(loc=2)\n",
    "plotter.ylim(ymax=1)\n",
    "fig.tight_layout()\n",
    "plt.show()\n"
   ]
  },
  {
   "cell_type": "code",
   "execution_count": 14,
   "metadata": {},
   "outputs": [
    {
     "data": {
      "text/plain": [
       "0.38758500834275034"
      ]
     },
     "execution_count": 14,
     "metadata": {},
     "output_type": "execute_result"
    }
   ],
   "source": [
    "1/Water_ints[2]"
   ]
  },
  {
   "cell_type": "code",
   "execution_count": null,
   "metadata": {
    "collapsed": true
   },
   "outputs": [],
   "source": []
  }
 ],
 "metadata": {
  "kernelspec": {
   "display_name": "Python 2",
   "language": "python",
   "name": "python2"
  },
  "language_info": {
   "codemirror_mode": {
    "name": "ipython",
    "version": 2
   },
   "file_extension": ".py",
   "mimetype": "text/x-python",
   "name": "python",
   "nbconvert_exporter": "python",
   "pygments_lexer": "ipython2",
   "version": "2.7.12"
  }
 },
 "nbformat": 4,
 "nbformat_minor": 2
}
